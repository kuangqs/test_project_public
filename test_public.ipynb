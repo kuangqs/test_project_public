{
 "cells": [
  {
   "cell_type": "code",
   "execution_count": null,
   "id": "321b1cb4-b128-4811-ac12-c87a38edaaa8",
   "metadata": {},
   "outputs": [],
   "source": [
    "print(\"pubilc\")"
   ]
  },
  {
   "cell_type": "code",
   "execution_count": null,
   "id": "26c82c96-7944-40dd-a86d-ade176c62781",
   "metadata": {},
   "outputs": [],
   "source": [
    "!uname -a"
   ]
  },
  {
   "cell_type": "code",
   "execution_count": null,
   "id": "e0465d91-dc21-4de6-8118-d52ab7e3a8eb",
   "metadata": {},
   "outputs": [],
   "source": [
    "ls"
   ]
  }
 ],
 "metadata": {
  "kernelspec": {
   "display_name": "",
   "name": ""
  },
  "language_info": {
   "name": ""
  }
 },
 "nbformat": 4,
 "nbformat_minor": 5
}
